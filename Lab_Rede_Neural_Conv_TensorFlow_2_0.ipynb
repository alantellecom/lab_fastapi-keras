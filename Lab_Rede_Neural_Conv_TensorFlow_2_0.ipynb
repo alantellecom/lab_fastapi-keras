{
 "cells": [
  {
   "cell_type": "markdown",
   "metadata": {
    "id": "lRHFdNYAfWKJ"
   },
   "source": [
    "## Etapa 2: Importando as bibliotecas"
   ]
  },
  {
   "cell_type": "code",
   "execution_count": 2,
   "metadata": {
    "colab": {
     "base_uri": "https://localhost:8080/",
     "height": 35
    },
    "id": "tS5xFeQwe9Xu",
    "outputId": "c3b13236-793b-40d0-cf3b-a39eb2cdfeac"
   },
   "outputs": [
    {
     "data": {
      "text/plain": [
       "'2.4.1'"
      ]
     },
     "execution_count": 2,
     "metadata": {},
     "output_type": "execute_result"
    }
   ],
   "source": [
    "import tensorflow as tf\n",
    "import matplotlib.pyplot as plt\n",
    "from tensorflow import keras\n",
    "from tensorflow.keras.layers import Dropout\n",
    "from tensorflow.keras.datasets import cifar10\n",
    "from tensorflow.keras.models import load_model\n",
    "import numpy as np\n",
    "\n",
    "%matplotlib inline\n",
    "tf.__version__"
   ]
  },
  {
   "cell_type": "code",
   "execution_count": 7,
   "metadata": {
    "id": "v1N6LbS-e9a1"
   },
   "outputs": [],
   "source": [
    "# Configurando o nome das classes que serão previstas\n",
    "class_names = ['airplane', 'automobile', 'bird', 'cat', 'deer', 'dog', 'frog', 'horse', 'ship', 'truck']"
   ]
  },
  {
   "cell_type": "code",
   "execution_count": 5,
   "metadata": {
    "colab": {
     "base_uri": "https://localhost:8080/"
    },
    "id": "f13-8-m_fqKP",
    "outputId": "17725e74-9cfe-4cf6-8891-17af01f31961"
   },
   "outputs": [],
   "source": [
    "# Carregando a base de dados\n",
    "(X_train, y_train), (X_test, y_test) = cifar10.load_data()"
   ]
  },
  {
   "cell_type": "markdown",
   "metadata": {
    "id": "XqDIpsJWgUkz"
   },
   "source": [
    "### Normalização das imagens"
   ]
  },
  {
   "cell_type": "code",
   "execution_count": 18,
   "metadata": {
    "colab": {
     "base_uri": "https://localhost:8080/"
    },
    "id": "ohcM5aeFpf2v",
    "outputId": "44c6a53c-303d-49b7-f099-dfd059926e1b"
   },
   "outputs": [
    {
     "data": {
      "text/plain": [
       "(32, 32, 3)"
      ]
     },
     "execution_count": 18,
     "metadata": {
      "tags": []
     },
     "output_type": "execute_result"
    }
   ],
   "source": [
    "X_train[0].shape"
   ]
  },
  {
   "cell_type": "code",
   "execution_count": 7,
   "metadata": {
    "id": "-QFncPlpgNmU"
   },
   "outputs": [],
   "source": [
    "X_train = X_train / 255.0"
   ]
  },
  {
   "cell_type": "code",
   "execution_count": null,
   "metadata": {
    "colab": {
     "base_uri": "https://localhost:8080/"
    },
    "id": "L1rFHX67gc6G",
    "outputId": "d535c40d-6ad9-4a8e-ccb0-d136d972c336"
   },
   "outputs": [
    {
     "data": {
      "text/plain": [
       "(50000, 32, 32, 3)"
      ]
     },
     "execution_count": 23,
     "metadata": {
      "tags": []
     },
     "output_type": "execute_result"
    }
   ],
   "source": [
    "X_train.shape"
   ]
  },
  {
   "cell_type": "code",
   "execution_count": 8,
   "metadata": {
    "id": "Ve2WbRGWgc3I"
   },
   "outputs": [],
   "source": [
    "X_test = X_test / 255.0"
   ]
  },
  {
   "cell_type": "code",
   "execution_count": null,
   "metadata": {
    "colab": {
     "base_uri": "https://localhost:8080/"
    },
    "id": "7jwvNZ82gh9d",
    "outputId": "2ed201c3-54bf-4778-d237-7f397132cdb5"
   },
   "outputs": [
    {
     "data": {
      "text/plain": [
       "<matplotlib.image.AxesImage at 0x7f9078533908>"
      ]
     },
     "execution_count": 25,
     "metadata": {
      "tags": []
     },
     "output_type": "execute_result"
    },
    {
     "data": {
      "image/png": "[encoded data removed]",
      "text/plain": [
       "<Figure size 432x288 with 1 Axes>"
      ]
     },
     "metadata": {
      "needs_background": "light",
      "tags": []
     },
     "output_type": "display_data"
    }
   ],
   "source": [
    "plt.imshow(X_test[1])"
   ]
  },
  {
   "cell_type": "markdown",
   "metadata": {
    "id": "HXiuZulIguyf"
   },
   "source": [
    "## Etapa 4: Construindo a Rede Neural Convolucional"
   ]
  },
  {
   "cell_type": "markdown",
   "metadata": {
    "id": "27Ws23L8rdjf"
   },
   "source": [
    "###  Sem Sequential model"
   ]
  },
  {
   "cell_type": "code",
   "execution_count": 9,
   "metadata": {
    "id": "gcUV5TjvqFXB"
   },
   "outputs": [],
   "source": [
    "inputs = tf.keras.layers.Input(X_train.shape[1:])"
   ]
  },
  {
   "cell_type": "code",
   "execution_count": 35,
   "metadata": {
    "id": "hvkKC2orO5z9"
   },
   "outputs": [],
   "source": [
    "def forward_propagation(X):\n",
    "\n",
    "    initializer = tf.keras.initializers.GlorotUniform(seed=0)\n",
    "    Z1 = tf.keras.layers.Conv2D(filters=64,\n",
    "                                kernel_size=(3,3),\n",
    "                                strides = (1,1),\n",
    "                                kernel_initializer= initializer,\n",
    "                                padding = 'SAME')(X)\n",
    "    A1= tf.keras.layers.Activation('relu')(Z1)\n",
    "    #A1 = tf.keras.layers.BatchNormalization()(A1)\n",
    "    P1 = tf.keras.layers.MaxPool2D(pool_size=(2, 2),strides = (1,1))(A1)\n",
    "    F = tf.keras.layers.Flatten()(P1)\n",
    "    A2 = tf.keras.layers.Dense(units=128, activation='relu')(F)\n",
    "    A3 = Dropout(0.3)(A2)\n",
    "    A4 = tf.keras.layers.Dense(units=10, activation='softmax')(A3)\n",
    "    ### END CODE HERE ###\n",
    "\n",
    "    return A4"
   ]
  },
  {
   "cell_type": "code",
   "execution_count": 36,
   "metadata": {
    "id": "Qs2nx8w9PCkF"
   },
   "outputs": [],
   "source": [
    "A4 = forward_propagation(inputs)"
   ]
  },
  {
   "cell_type": "code",
   "execution_count": 37,
   "metadata": {
    "id": "EX6xAUKPpUMr"
   },
   "outputs": [],
   "source": [
    "model = tf.keras.Model(inputs=inputs, outputs=A4)"
   ]
  },
  {
   "cell_type": "code",
   "execution_count": 38,
   "metadata": {
    "id": "fX2NorYgqrZ1"
   },
   "outputs": [],
   "source": [
    "model.compile(loss=\"sparse_categorical_crossentropy\", optimizer=\"Adam\", metrics=[\"sparse_categorical_accuracy\"])"
   ]
  },
  {
   "cell_type": "code",
   "execution_count": 40,
   "metadata": {
    "colab": {
     "base_uri": "https://localhost:8080/"
    },
    "id": "ZoMxsCfUqy3D",
    "outputId": "248a3205-7c62-4367-aca5-7ff9b168077a"
   },
   "outputs": [
    {
     "name": "stdout",
     "output_type": "stream",
     "text": [
      "Epoch 1/20\n",
      "1563/1563 [==============================] - 7s 5ms/step - loss: 0.6999 - sparse_categorical_accuracy: 0.7354\n",
      "Epoch 2/20\n",
      "1563/1563 [==============================] - 7s 5ms/step - loss: 0.6678 - sparse_categorical_accuracy: 0.7468\n",
      "Epoch 3/20\n",
      "1563/1563 [==============================] - 7s 5ms/step - loss: 0.6479 - sparse_categorical_accuracy: 0.7543\n",
      "Epoch 4/20\n",
      "1563/1563 [==============================] - 7s 5ms/step - loss: 0.6284 - sparse_categorical_accuracy: 0.7618\n",
      "Epoch 5/20\n",
      "1563/1563 [==============================] - 7s 5ms/step - loss: 0.6054 - sparse_categorical_accuracy: 0.7712\n",
      "Epoch 6/20\n",
      "1563/1563 [==============================] - 7s 5ms/step - loss: 0.5802 - sparse_categorical_accuracy: 0.7772\n",
      "Epoch 7/20\n",
      "1563/1563 [==============================] - 7s 5ms/step - loss: 0.5685 - sparse_categorical_accuracy: 0.7821\n",
      "Epoch 8/20\n",
      "1563/1563 [==============================] - 7s 5ms/step - loss: 0.5574 - sparse_categorical_accuracy: 0.7879\n",
      "Epoch 9/20\n",
      "1563/1563 [==============================] - 7s 5ms/step - loss: 0.5380 - sparse_categorical_accuracy: 0.7952\n",
      "Epoch 10/20\n",
      "1563/1563 [==============================] - 7s 5ms/step - loss: 0.5306 - sparse_categorical_accuracy: 0.8007\n",
      "Epoch 11/20\n",
      "1563/1563 [==============================] - 7s 5ms/step - loss: 0.5095 - sparse_categorical_accuracy: 0.8064\n",
      "Epoch 12/20\n",
      "1563/1563 [==============================] - 8s 5ms/step - loss: 0.5028 - sparse_categorical_accuracy: 0.8092\n",
      "Epoch 13/20\n",
      "1563/1563 [==============================] - 7s 5ms/step - loss: 0.4841 - sparse_categorical_accuracy: 0.8142\n",
      "Epoch 14/20\n",
      "1563/1563 [==============================] - 8s 5ms/step - loss: 0.4817 - sparse_categorical_accuracy: 0.8159\n",
      "Epoch 15/20\n",
      "1563/1563 [==============================] - 8s 5ms/step - loss: 0.4678 - sparse_categorical_accuracy: 0.8228\n",
      "Epoch 16/20\n",
      "1563/1563 [==============================] - 8s 5ms/step - loss: 0.4499 - sparse_categorical_accuracy: 0.8280\n",
      "Epoch 17/20\n",
      "1563/1563 [==============================] - 8s 5ms/step - loss: 0.4484 - sparse_categorical_accuracy: 0.8292\n",
      "Epoch 18/20\n",
      "1563/1563 [==============================] - 8s 5ms/step - loss: 0.4404 - sparse_categorical_accuracy: 0.8290\n",
      "Epoch 19/20\n",
      "1563/1563 [==============================] - 8s 5ms/step - loss: 0.4368 - sparse_categorical_accuracy: 0.8341\n",
      "Epoch 20/20\n",
      "1563/1563 [==============================] - 8s 5ms/step - loss: 0.4138 - sparse_categorical_accuracy: 0.8400\n"
     ]
    },
    {
     "data": {
      "text/plain": [
       "<tensorflow.python.keras.callbacks.History at 0x7f557acd2890>"
      ]
     },
     "execution_count": 40,
     "metadata": {
      "tags": []
     },
     "output_type": "execute_result"
    }
   ],
   "source": [
    "model.fit(X_train, y_train, epochs=20)"
   ]
  },
  {
   "cell_type": "code",
   "execution_count": 41,
   "metadata": {
    "colab": {
     "base_uri": "https://localhost:8080/"
    },
    "id": "JpOAopoBxMDE",
    "outputId": "23bd7d62-9531-4963-db9b-9886acbe4786"
   },
   "outputs": [
    {
     "name": "stdout",
     "output_type": "stream",
     "text": [
      "313/313 [==============================] - 1s 3ms/step - loss: 1.7424 - sparse_categorical_accuracy: 0.6173\n"
     ]
    }
   ],
   "source": [
    "test_loss, test_accuracy = model.evaluate(X_test, y_test)"
   ]
  },
  {
   "cell_type": "code",
   "execution_count": 42,
   "metadata": {
    "id": "j-PitBAKtA5Z"
   },
   "outputs": [],
   "source": [
    "model.save('cifar10.h5')"
   ]
  },
  {
   "cell_type": "code",
   "execution_count": 8,
   "metadata": {
    "id": "cyxDZmiD0o2m"
   },
   "outputs": [],
   "source": [
    "model = load_model('cifar10.h5')"
   ]
  },
  {
   "cell_type": "code",
   "execution_count": 9,
   "metadata": {
    "id": "aG9lXvNUucv5"
   },
   "outputs": [],
   "source": [
    "def preprocess_image(image_path):\n",
    "    img = keras.preprocessing.image.load_img(image_path, target_size=(32, 32))\n",
    "    img = keras.preprocessing.image.img_to_array(img)\n",
    "    img = np.expand_dims(img, axis=0)\n",
    "    return tf.convert_to_tensor(img)"
   ]
  },
  {
   "cell_type": "code",
   "execution_count": 11,
   "metadata": {
    "id": "UEKHNCl-vpnB"
   },
   "outputs": [],
   "source": [
    "img = preprocess_image('carro.jpg')"
   ]
  },
  {
   "cell_type": "code",
   "execution_count": 12,
   "metadata": {
    "id": "-pMy34AVvcnQ"
   },
   "outputs": [],
   "source": [
    "predict =model.predict(img)"
   ]
  },
  {
   "cell_type": "code",
   "execution_count": 13,
   "metadata": {
    "colab": {
     "base_uri": "https://localhost:8080/",
     "height": 35
    },
    "id": "e__lhIwSzczQ",
    "outputId": "61d90144-a63c-4b6c-9df5-ac847d3de302"
   },
   "outputs": [
    {
     "data": {
      "text/plain": [
       "'automobile'"
      ]
     },
     "execution_count": 13,
     "metadata": {},
     "output_type": "execute_result"
    }
   ],
   "source": [
    "class_names[np.argmax(predict)]"
   ]
  },
  {
   "cell_type": "markdown",
   "metadata": {
    "id": "e5RufdGKrihq"
   },
   "source": [
    " ### Com Sequential model"
   ]
  },
  {
   "cell_type": "code",
   "execution_count": null,
   "metadata": {
    "id": "1TR0JGP5gq2i"
   },
   "outputs": [],
   "source": [
    "model = tf.keras.models.Sequential()"
   ]
  },
  {
   "cell_type": "code",
   "execution_count": null,
   "metadata": {
    "id": "LSkL1iOvg_dE"
   },
   "outputs": [],
   "source": [
    "model.add(tf.keras.layers.Conv2D(filters=64, kernel_size=3, padding=\"same\", activation=\"relu\", input_shape=X_train.shape[1:]))\n",
    "model.add(tf.keras.layers.MaxPool2D(2,2))\n",
    "model.add(tf.keras.layers.Conv2D(filters=64, kernel_size=3, padding=\"same\", activation=\"relu\"))\n",
    "model.add(tf.keras.layers.MaxPool2D(2,2))\n",
    "model.add(tf.keras.layers.Flatten())\n",
    "model.add(tf.keras.layers.Dense(units=128, activation='relu'))\n",
    "model.add(tf.keras.layers.Dense(units=10, activation='softmax'))"
   ]
  },
  {
   "cell_type": "code",
   "execution_count": null,
   "metadata": {
    "id": "BAVneK8etz1l"
   },
   "outputs": [],
   "source": [
    "#tf.keras.regularizers.l2(0.005)"
   ]
  },
  {
   "cell_type": "code",
   "execution_count": null,
   "metadata": {
    "colab": {
     "base_uri": "https://localhost:8080/"
    },
    "id": "aRr3bCU-ti06",
    "outputId": "424b6adc-5a4b-4782-c82e-dfdc15d1e5a8"
   },
   "outputs": [
    {
     "name": "stdout",
     "output_type": "stream",
     "text": [
      "Model: \"sequential\"\n",
      "_________________________________________________________________\n",
      "Layer (type)                 Output Shape              Param #   \n",
      "=================================================================\n",
      "conv2d_16 (Conv2D)           (None, 32, 32, 64)        1792      \n",
      "_________________________________________________________________\n",
      "max_pooling2d_11 (MaxPooling (None, 16, 16, 64)        0         \n",
      "_________________________________________________________________\n",
      "conv2d_17 (Conv2D)           (None, 16, 16, 64)        36928     \n",
      "_________________________________________________________________\n",
      "max_pooling2d_12 (MaxPooling (None, 8, 8, 64)          0         \n",
      "_________________________________________________________________\n",
      "flatten_6 (Flatten)          (None, 4096)              0         \n",
      "_________________________________________________________________\n",
      "dense_4 (Dense)              (None, 128)               524416    \n",
      "_________________________________________________________________\n",
      "dense_5 (Dense)              (None, 10)                1290      \n",
      "=================================================================\n",
      "Total params: 564,426\n",
      "Trainable params: 564,426\n",
      "Non-trainable params: 0\n",
      "_________________________________________________________________\n"
     ]
    }
   ],
   "source": [
    "model.summary()"
   ]
  },
  {
   "cell_type": "markdown",
   "metadata": {
    "id": "DYgvbNihtprw"
   },
   "source": [
    "### Compilando o modelo\n",
    "\n",
    "#### sparse_categorical_accuracy\n",
    "\n",
    "https://stackoverflow.com/questions/44477489/keras-difference-between-categorical-accuracy-and-sparse-categorical-accuracy "
   ]
  },
  {
   "cell_type": "code",
   "execution_count": null,
   "metadata": {
    "id": "oYHELxz4tsa-"
   },
   "outputs": [],
   "source": [
    "model.compile(loss=\"sparse_categorical_crossentropy\", optimizer=\"Adam\", metrics=[\"sparse_categorical_accuracy\"])"
   ]
  },
  {
   "cell_type": "markdown",
   "metadata": {
    "id": "Gox3SmwUtwgX"
   },
   "source": [
    "### Treinando o modelo"
   ]
  },
  {
   "cell_type": "code",
   "execution_count": null,
   "metadata": {
    "colab": {
     "base_uri": "https://localhost:8080/"
    },
    "id": "D3MHvRYKe9fN",
    "outputId": "0d74cb39-02ca-4b5b-f4d1-6934ab17b735"
   },
   "outputs": [
    {
     "name": "stdout",
     "output_type": "stream",
     "text": [
      "Epoch 1/5\n",
      "1563/1563 [==============================] - 5s 3ms/step - loss: 1.5941 - sparse_categorical_accuracy: 0.4248\n",
      "Epoch 2/5\n",
      "1563/1563 [==============================] - 5s 3ms/step - loss: 1.0993 - sparse_categorical_accuracy: 0.6153\n",
      "Epoch 3/5\n",
      "1563/1563 [==============================] - 5s 3ms/step - loss: 0.9397 - sparse_categorical_accuracy: 0.6707\n",
      "Epoch 4/5\n",
      "1563/1563 [==============================] - 5s 3ms/step - loss: 0.8203 - sparse_categorical_accuracy: 0.7114\n",
      "Epoch 5/5\n",
      "1563/1563 [==============================] - 5s 3ms/step - loss: 0.7250 - sparse_categorical_accuracy: 0.7455\n"
     ]
    },
    {
     "data": {
      "text/plain": [
       "<tensorflow.python.keras.callbacks.History at 0x7f9c7015ac90>"
      ]
     },
     "execution_count": 27,
     "metadata": {
      "tags": []
     },
     "output_type": "execute_result"
    }
   ],
   "source": [
    "model.fit(X_train, y_train, epochs=5)"
   ]
  },
  {
   "cell_type": "markdown",
   "metadata": {
    "id": "D8C7Pm0NuOrJ"
   },
   "source": [
    "### Avaliando o modelo"
   ]
  },
  {
   "cell_type": "code",
   "execution_count": null,
   "metadata": {
    "colab": {
     "base_uri": "https://localhost:8080/"
    },
    "id": "Z9r8TtNet3D0",
    "outputId": "0063a652-826e-4bd9-ede5-27394bfad536"
   },
   "outputs": [
    {
     "name": "stdout",
     "output_type": "stream",
     "text": [
      "313/313 [==============================] - 1s 2ms/step - loss: 1.0460 - sparse_categorical_accuracy: 0.6462\n"
     ]
    }
   ],
   "source": [
    "test_loss, test_accuracy = model.evaluate(X_test, y_test)"
   ]
  },
  {
   "cell_type": "code",
   "execution_count": null,
   "metadata": {
    "id": "OjbMzCVBxJ9u"
   },
   "outputs": [],
   "source": []
  },
  {
   "cell_type": "code",
   "execution_count": null,
   "metadata": {
    "colab": {
     "base_uri": "https://localhost:8080/",
     "height": 34
    },
    "id": "0rpAPpfzuV0p",
    "outputId": "778bdc4f-5735-44ac-838d-fe835b580fd3"
   },
   "outputs": [
    {
     "name": "stdout",
     "output_type": "stream",
     "text": [
      "Test accuracy: 0.676800012588501\n"
     ]
    }
   ],
   "source": [
    "print(\"Test accuracy: {}\".format(test_accuracy))"
   ]
  },
  {
   "cell_type": "code",
   "execution_count": null,
   "metadata": {
    "colab": {
     "base_uri": "https://localhost:8080/",
     "height": 34
    },
    "id": "lp7HNHS7I0HU",
    "outputId": "2ec82f06-6b37-471a-e200-11c67f98c309"
   },
   "outputs": [
    {
     "data": {
      "text/plain": [
       "1.5279629726409911"
      ]
     },
     "execution_count": 101,
     "metadata": {
      "tags": []
     },
     "output_type": "execute_result"
    }
   ],
   "source": [
    "test_loss"
   ]
  }
 ],
 "metadata": {
  "accelerator": "GPU",
  "colab": {
   "collapsed_sections": [],
   "name": "Lab_Rede_Neural_Conv_TensorFlow 2.0_sem_sequencial.ipynb",
   "provenance": [],
   "toc_visible": true
  },
  "kernelspec": {
   "display_name": "Python 3.7 (XPython)",
   "language": "python",
   "name": "xpython"
  },
  "language_info": {
   "file_extension": ".py",
   "mimetype": "text/x-python",
   "name": "python",
   "version": "3.7.9"
  }
 },
 "nbformat": 4,
 "nbformat_minor": 4
}
